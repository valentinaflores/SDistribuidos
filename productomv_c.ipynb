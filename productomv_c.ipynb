{
  "nbformat": 4,
  "nbformat_minor": 0,
  "metadata": {
    "colab": {
      "provenance": [],
      "authorship_tag": "ABX9TyOXL6zwWT7RNjE7XVi0mdPs",
      "include_colab_link": true
    },
    "kernelspec": {
      "name": "python3",
      "display_name": "Python 3"
    },
    "language_info": {
      "name": "python"
    }
  },
  "cells": [
    {
      "cell_type": "markdown",
      "metadata": {
        "id": "view-in-github",
        "colab_type": "text"
      },
      "source": [
        "<a href=\"https://colab.research.google.com/github/valentinaflores/SDistribuidos/blob/main/productomv_c.ipynb\" target=\"_parent\"><img src=\"https://colab.research.google.com/assets/colab-badge.svg\" alt=\"Open In Colab\"/></a>"
      ]
    },
    {
      "cell_type": "code",
      "source": [
        "!apt-get install gcc"
      ],
      "metadata": {
        "id": "gJZ4EsmmqHxL"
      },
      "execution_count": null,
      "outputs": []
    },
    {
      "cell_type": "code",
      "execution_count": null,
      "metadata": {
        "colab": {
          "base_uri": "https://localhost:8080/"
        },
        "id": "QKTJV4UxnHJk",
        "outputId": "dc079a00-2840-44f7-aeb7-328706ee9d07"
      },
      "outputs": [
        {
          "output_type": "stream",
          "name": "stdout",
          "text": [
            "Overwriting productomv.c\n"
          ]
        }
      ],
      "source": [
        "%%writefile productomv.c\n",
        "// Multiplicación de vector por matriz de forma paralela\n",
        "#include <stdio.h>\n",
        "#include <stdlib.h>\n",
        "#include <omp.h>\n",
        "#include <sys/time.h>  // Inclusión para gettimeofday\n",
        "\n",
        "//Función de multiplicación\n",
        "void Multiplication(const double *vector, const double *matrix, double *result, int rows, int cols) {\n",
        "    #pragma omp parallel for\n",
        "    for (int i = 0; i < rows; ++i) {\n",
        "        result[i] = 0.0;\n",
        "        for (int j = 0; j < cols; ++j) {\n",
        "            result[i] += vector[j] * matrix[i * cols + j];\n",
        "        }\n",
        "    }\n",
        "}\n",
        "\n",
        "int main() {\n",
        "\t//Se definen las dimensiones\n",
        "    const int rows = 3;\n",
        "    const int cols = 3;\n",
        "\n",
        "\t//Se declaran arreglos para c/u\n",
        "    double vector[cols];\n",
        "    double matrix[rows][cols];\n",
        "    double result[rows];\n",
        "\n",
        "    // Se inicializan vector y matriz\n",
        "    for (int i = 0; i < cols; ++i) {\n",
        "        vector[i] = 2.0;\n",
        "    }\n",
        "    for (int i = 0; i < rows; ++i) {\n",
        "        for (int j = 0; j < cols; ++j) {\n",
        "            matrix[i][j] = 3.0;\n",
        "        }\n",
        "    }\n",
        "\n",
        "    struct timeval start_time, end_time;\n",
        "    gettimeofday(&start_time, NULL);\n",
        "\n",
        "    // Realiza la multiplicación de forma paralela\n",
        "    Multiplication(vector, (double *)matrix, result, rows, cols);\n",
        "\n",
        "   gettimeofday(&end_time, NULL);\n",
        "    double elapsed_time = (end_time.tv_sec - start_time.tv_sec) +\n",
        "                          (end_time.tv_usec - start_time.tv_usec) / 1e6;\n",
        "\n",
        "    // Mostrar el resultado\n",
        "    printf(\"Resultado de la multiplicacion:\\n\");\n",
        "    for (int i = 0; i < rows; ++i) {\n",
        "        printf(\"%f \", result[i]);\n",
        "    }\n",
        "    printf(\"\\n\");\n",
        "\n",
        "    // Imprime el tiempo transcurrido\n",
        "    printf(\"Tiempo transcurrido: %f segundos\\n\", elapsed_time);\n",
        "\n",
        "    return 0;\n",
        "}"
      ]
    },
    {
      "cell_type": "code",
      "source": [
        "!gcc productomv.c -o productomv\n",
        "!./productomv\n"
      ],
      "metadata": {
        "colab": {
          "base_uri": "https://localhost:8080/"
        },
        "id": "ICzneGl2o1xs",
        "outputId": "6da9d34c-8bed-46d0-9079-b9a8b040e199"
      },
      "execution_count": null,
      "outputs": [
        {
          "output_type": "stream",
          "name": "stdout",
          "text": [
            "Resultado de la multiplicacion:\n",
            "18.000000 18.000000 18.000000 \n",
            "Tiempo transcurrido: 0.000001 segundos\n"
          ]
        }
      ]
    }
  ]
}