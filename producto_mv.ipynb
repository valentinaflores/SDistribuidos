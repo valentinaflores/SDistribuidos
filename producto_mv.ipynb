{
  "nbformat": 4,
  "nbformat_minor": 0,
  "metadata": {
    "colab": {
      "provenance": [],
      "authorship_tag": "ABX9TyOVyS1InRn0nfVI83E3j1TX",
      "include_colab_link": true
    },
    "kernelspec": {
      "name": "python3",
      "display_name": "Python 3"
    },
    "language_info": {
      "name": "python"
    }
  },
  "cells": [
    {
      "cell_type": "markdown",
      "metadata": {
        "id": "view-in-github",
        "colab_type": "text"
      },
      "source": [
        "<a href=\"https://colab.research.google.com/github/valentinaflores/SDistribuidos/blob/main/producto_mv.ipynb\" target=\"_parent\"><img src=\"https://colab.research.google.com/assets/colab-badge.svg\" alt=\"Open In Colab\"/></a>"
      ]
    },
    {
      "cell_type": "code",
      "execution_count": null,
      "metadata": {
        "id": "CGS5bq-WSTep"
      },
      "outputs": [],
      "source": [
        "!pip install mpi4py"
      ]
    },
    {
      "cell_type": "code",
      "source": [
        "from mpi4py import MPI\n",
        "import numpy as np"
      ],
      "metadata": {
        "id": "NnsaljuVUraR"
      },
      "execution_count": 2,
      "outputs": []
    },
    {
      "cell_type": "code",
      "source": [
        "# Inicializar el entorno MPI\n",
        "comm = MPI.COMM_WORLD\n",
        "rank = comm.Get_rank()\n",
        "size = comm.Get_size()"
      ],
      "metadata": {
        "id": "-miVlOcXUwly"
      },
      "execution_count": 3,
      "outputs": []
    },
    {
      "cell_type": "code",
      "source": [
        "# Dimensiones de la matriz y el vector\n",
        "matrix_rows = 3\n",
        "matrix_cols = 3\n",
        "vector_size = 3\n"
      ],
      "metadata": {
        "id": "tFQayke7U1bH"
      },
      "execution_count": 11,
      "outputs": []
    },
    {
      "cell_type": "code",
      "source": [
        "# Generar matriz y vector aleatorios en el proceso raíz\n",
        "if rank == 0:\n",
        "    matrix = np.random.rand(matrix_rows, matrix_cols)\n",
        "    vector = np.random.rand(vector_size)\n",
        "else:\n",
        "    matrix = None\n",
        "    vector = None"
      ],
      "metadata": {
        "id": "RK9jjf0NU8QN"
      },
      "execution_count": 12,
      "outputs": []
    },
    {
      "cell_type": "code",
      "source": [
        "# Distribuir la matriz y el vector a todos los procesos\n",
        "matrix = comm.bcast(matrix, root=0)\n",
        "vector = comm.bcast(vector, root=0)"
      ],
      "metadata": {
        "id": "cxuXEQkjViYX"
      },
      "execution_count": 13,
      "outputs": []
    },
    {
      "cell_type": "code",
      "source": [
        "# Calcular la porción de la matriz y el vector para cada proceso\n",
        "local_matrix = np.zeros((matrix_rows // size, matrix_cols))\n",
        "local_vector = np.zeros(vector_size)\n",
        "comm.Scatter(matrix, local_matrix, root=0)\n",
        "comm.Scatter(vector, local_vector, root=0)"
      ],
      "metadata": {
        "id": "QNH_HS3LVliu"
      },
      "execution_count": 14,
      "outputs": []
    },
    {
      "cell_type": "code",
      "source": [
        "# Realizar la multiplicación local del vector por la matriz\n",
        "local_result = np.dot(local_matrix, local_vector)"
      ],
      "metadata": {
        "id": "w8dKQJonVod6"
      },
      "execution_count": 15,
      "outputs": []
    },
    {
      "cell_type": "code",
      "source": [
        "# Realizar la reducción de suma para obtener el resultado final\n",
        "result = np.zeros(matrix_rows)\n",
        "comm.Allreduce(local_result, result, op=MPI.SUM)"
      ],
      "metadata": {
        "id": "amtvcMgIVsdi"
      },
      "execution_count": 16,
      "outputs": []
    },
    {
      "cell_type": "code",
      "source": [
        "# Imprimir el resultado en el proceso raíz\n",
        "if rank == 0:\n",
        "    print(\"Resultado de la multiplicación:\")\n",
        "    print(result)"
      ],
      "metadata": {
        "colab": {
          "base_uri": "https://localhost:8080/"
        },
        "id": "54XAk5soVsjy",
        "outputId": "4a04a747-bf5c-49cc-8e05-362ab2efcfa1"
      },
      "execution_count": 17,
      "outputs": [
        {
          "output_type": "stream",
          "name": "stdout",
          "text": [
            "Resultado de la multiplicación:\n",
            "[0.467388   0.81716015 1.0757677 ]\n"
          ]
        }
      ]
    }
  ]
}