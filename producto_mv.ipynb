{
  "nbformat": 4,
  "nbformat_minor": 0,
  "metadata": {
    "colab": {
      "provenance": [],
      "authorship_tag": "ABX9TyOhCgtjRI5sb2WO9WWBAQU+",
      "include_colab_link": true
    },
    "kernelspec": {
      "name": "python3",
      "display_name": "Python 3"
    },
    "language_info": {
      "name": "python"
    }
  },
  "cells": [
    {
      "cell_type": "markdown",
      "metadata": {
        "id": "view-in-github",
        "colab_type": "text"
      },
      "source": [
        "<a href=\"https://colab.research.google.com/github/valentinaflores/SDistribuidos/blob/main/producto_mv.ipynb\" target=\"_parent\"><img src=\"https://colab.research.google.com/assets/colab-badge.svg\" alt=\"Open In Colab\"/></a>"
      ]
    },
    {
      "cell_type": "code",
      "execution_count": 37,
      "metadata": {
        "id": "CGS5bq-WSTep",
        "colab": {
          "base_uri": "https://localhost:8080/"
        },
        "outputId": "6f096fe1-0d82-4ded-f3cb-cbb0809126b6"
      },
      "outputs": [
        {
          "output_type": "stream",
          "name": "stdout",
          "text": [
            "Requirement already satisfied: mpi4py in /usr/local/lib/python3.10/dist-packages (3.1.5)\n"
          ]
        }
      ],
      "source": [
        "!pip install mpi4py"
      ]
    },
    {
      "cell_type": "code",
      "source": [
        "from mpi4py import MPI\n",
        "import numpy as np\n",
        "import time"
      ],
      "metadata": {
        "id": "NnsaljuVUraR"
      },
      "execution_count": 38,
      "outputs": []
    },
    {
      "cell_type": "code",
      "source": [
        "# Inicializar el entorno MPI\n",
        "comm = MPI.COMM_WORLD\n",
        "rank = comm.Get_rank()\n",
        "size = comm.Get_size()"
      ],
      "metadata": {
        "id": "-miVlOcXUwly"
      },
      "execution_count": 39,
      "outputs": []
    },
    {
      "cell_type": "code",
      "source": [
        "# Dimensiones de la matriz y el vector\n",
        "matrix_rows = 3\n",
        "matrix_cols = 3\n",
        "vector_size = 3\n"
      ],
      "metadata": {
        "id": "tFQayke7U1bH"
      },
      "execution_count": 40,
      "outputs": []
    },
    {
      "cell_type": "code",
      "source": [
        "# Generar matriz y vector aleatorios en el proceso raíz\n",
        "if rank == 0:\n",
        "    matrix = np.array([[3.0, 3.0, 3.0], [3.0, 3.0, 3.0], [3.0, 3.0, 3.0]])\n",
        "    vector = np.array([2.0, 2.0, 2.0])\n",
        "else:\n",
        "    matrix = None\n",
        "    vector = None"
      ],
      "metadata": {
        "id": "RK9jjf0NU8QN"
      },
      "execution_count": 41,
      "outputs": []
    },
    {
      "cell_type": "code",
      "source": [
        "# Distribuir la matriz y el vector a todos los procesos\n",
        "matrix = comm.bcast(matrix, root=0)\n",
        "vector = comm.bcast(vector, root=0)"
      ],
      "metadata": {
        "id": "cxuXEQkjViYX"
      },
      "execution_count": 42,
      "outputs": []
    },
    {
      "cell_type": "code",
      "source": [
        "# Medir el tiempo inicial\n",
        "start_time = time.time()"
      ],
      "metadata": {
        "id": "zZXvdTZMaha9"
      },
      "execution_count": 52,
      "outputs": []
    },
    {
      "cell_type": "code",
      "source": [
        "# Calcular la porción de la matriz y el vector para cada proceso\n",
        "local_matrix = np.zeros((matrix_rows // size, matrix_cols))\n",
        "local_vector = np.zeros(vector_size)\n",
        "comm.Scatter(matrix, local_matrix, root=0)\n",
        "comm.Scatter(vector, local_vector, root=0)"
      ],
      "metadata": {
        "id": "QNH_HS3LVliu"
      },
      "execution_count": 53,
      "outputs": []
    },
    {
      "cell_type": "code",
      "source": [
        "# Realizar la multiplicación local del vector por la matriz\n",
        "local_result = np.dot(local_matrix, local_vector)"
      ],
      "metadata": {
        "id": "w8dKQJonVod6"
      },
      "execution_count": 54,
      "outputs": []
    },
    {
      "cell_type": "code",
      "source": [
        "# Realizar la reducción de suma para obtener el resultado final\n",
        "result = np.zeros(matrix_rows)\n",
        "comm.Allreduce(local_result, result, op=MPI.SUM)"
      ],
      "metadata": {
        "id": "amtvcMgIVsdi"
      },
      "execution_count": 55,
      "outputs": []
    },
    {
      "cell_type": "code",
      "source": [
        "# Medir el tiempo final\n",
        "end_time = time.time()"
      ],
      "metadata": {
        "id": "VuB8jugUab25"
      },
      "execution_count": 56,
      "outputs": []
    },
    {
      "cell_type": "code",
      "source": [
        "# Imprimir el resultado en el proceso raíz\n",
        "if rank == 0:\n",
        "    print(\"Resultado de la multiplicación:\")\n",
        "    print(result)"
      ],
      "metadata": {
        "colab": {
          "base_uri": "https://localhost:8080/"
        },
        "id": "54XAk5soVsjy",
        "outputId": "71d3d98b-7727-411c-cf87-f5a6992e8793"
      },
      "execution_count": 57,
      "outputs": [
        {
          "output_type": "stream",
          "name": "stdout",
          "text": [
            "Resultado de la multiplicación:\n",
            "[18. 18. 18.]\n"
          ]
        }
      ]
    },
    {
      "cell_type": "code",
      "source": [
        "# Calcular el tiempo transcurrido\n",
        "elapsed_time = end_time - start_time\n",
        "print(f\"Tiempo transcurrido: {elapsed_time} segundos\")"
      ],
      "metadata": {
        "colab": {
          "base_uri": "https://localhost:8080/"
        },
        "id": "y57JdKISbAqk",
        "outputId": "0e6b465c-5f0a-4674-e591-db277cb00786"
      },
      "execution_count": 58,
      "outputs": [
        {
          "output_type": "stream",
          "name": "stdout",
          "text": [
            "Tiempo transcurrido: 6.183919906616211 segundos\n"
          ]
        }
      ]
    }
  ]
}